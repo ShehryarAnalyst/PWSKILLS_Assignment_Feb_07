{
 "cells": [
  {
   "cell_type": "markdown",
   "id": "4120ab5f",
   "metadata": {},
   "source": [
    "## Assignment Questions"
   ]
  },
  {
   "cell_type": "markdown",
   "id": "d1dfab9a",
   "metadata": {},
   "source": [
    "Q1. You are writing code for a company. The requirement of the company is that you create a python function that will check whether the password entered by the user is correct or not. The function should take the password as input and return the string \"Valid Password\" if the entered password follows the below-given password guidelines else it should return \"Invalid Password\".\n",
    "Note: \n",
    "1. The Password should contain at least two uppercase letters and at least two lowercase letters. \n",
    "2. The Password should contain at least a number and three special characters.\n",
    "3. The length of the password should be 10 characters long."
   ]
  },
  {
   "cell_type": "code",
   "execution_count": 9,
   "id": "5f52538d",
   "metadata": {},
   "outputs": [
    {
     "name": "stdout",
     "output_type": "stream",
     "text": [
      "Enter your password: SHHshh@###23rtdf\n",
      "Invalid Password\n"
     ]
    }
   ],
   "source": [
    "import re\n",
    "\n",
    "def password_checker(S):\n",
    "    if len(S) != 10:\n",
    "        return \"Invalid Password\"\n",
    "    \n",
    "    lower = sum(1 for i in S if i.islower())\n",
    "    upper = sum(1 for i in S if i.isupper())\n",
    "    digit = sum(1 for i in S if i.isdigit())\n",
    "    special = len(re.findall(r'[!@#$%^&*(),.?\":{}|<>]', S))\n",
    "    \n",
    "    if lower >= 2 and upper >= 2 and digit >= 1 and special >= 3 and len(S)>10:\n",
    "        return \"Valid Password\"\n",
    "    else:\n",
    "        return \"Invalid Password\"\n",
    "\n",
    "password = input(\"Enter your password: \")\n",
    "print(password_checker(password))"
   ]
  },
  {
   "cell_type": "markdown",
   "id": "1cd3bb97",
   "metadata": {},
   "source": [
    "Q2. Solve the below-given questions using at least one of the following:\n",
    "1. Lambda function\n",
    "2. Filter function\n",
    "3. Map function\n",
    "4. List Comprehension\n",
    "\n",
    "* Check if the string starts with a particular letter.\n",
    "* Check if the string is numeric.\n",
    "* Sort a list of tuples having fruit names and their quantity. [(\"mango\",99), (\"orange\", 80), (\"grapes\", 1000)] \n",
    "* Find the squares of numbers from 1 to 10.\n",
    "* Find the cube root of numbers from 1 to 10.\n",
    "* Check if a given number is even.\n",
    "* Filter odd numbers from the given list. <br>\n",
    "[1,2,3,4,5,6,7,8,9,10]\n",
    "* Sort a list of integers into positive and negative integers lists. <br>\n",
    "[1,2,3,4,5,6,-1,-2,-3,-4,-5,0]"
   ]
  },
  {
   "cell_type": "code",
   "execution_count": 5,
   "id": "26aac838",
   "metadata": {},
   "outputs": [
    {
     "name": "stdout",
     "output_type": "stream",
     "text": [
      "Enter the string:Asdd\n",
      "Good\n"
     ]
    }
   ],
   "source": [
    "In_string=input(\"Enter the string:\")\n",
    "string_letter =\"A\"\n",
    "\n",
    "l= lambda x : \"Good\" if x.startswith(string_letter) else \"Not Good\"\n",
    "print(l(In_string))"
   ]
  },
  {
   "cell_type": "code",
   "execution_count": 11,
   "id": "f5ec98bf",
   "metadata": {},
   "outputs": [
    {
     "name": "stdout",
     "output_type": "stream",
     "text": [
      "Enter the string:edhhe3223\n",
      "String is numeric\n"
     ]
    }
   ],
   "source": [
    "In_string=input(\"Enter the string:\")\n",
    "digit = sum(1 for i in In_string if i.isdigit())\n",
    "\n",
    "l= lambda x: \"String is numeric\" if digit >= 1 else \"Not numeric\"\n",
    "print(l(In_string))"
   ]
  },
  {
   "cell_type": "code",
   "execution_count": 22,
   "id": "67ba45d9",
   "metadata": {},
   "outputs": [
    {
     "name": "stdout",
     "output_type": "stream",
     "text": [
      "[('orange', 80), ('mango', 99), ('grapes', 1000)]\n"
     ]
    }
   ],
   "source": [
    "fruits = [(\"mango\", 99), (\"orange\", 80), (\"grapes\", 1000)]\n",
    "sorted_fruits = sorted(fruits, key=lambda x: x[1])\n",
    "print(sorted_fruits)"
   ]
  },
  {
   "cell_type": "code",
   "execution_count": 20,
   "id": "a01c9ac7",
   "metadata": {},
   "outputs": [
    {
     "name": "stdout",
     "output_type": "stream",
     "text": [
      "Square of number are :\n",
      "[1, 4, 9, 16, 25, 36, 49, 64, 81, 100]\n"
     ]
    }
   ],
   "source": [
    "numbers=list(range(1,11,1))\n",
    "\n",
    "l=[i**2 for i in numbers ]\n",
    "print(\"Square of number are :\")\n",
    "print(l)"
   ]
  },
  {
   "cell_type": "code",
   "execution_count": 21,
   "id": "cb6a55ef",
   "metadata": {},
   "outputs": [
    {
     "name": "stdout",
     "output_type": "stream",
     "text": [
      "Cube of numbers are :\n",
      "[1, 8, 27, 64, 125, 216, 343, 512, 729, 1000]\n"
     ]
    }
   ],
   "source": [
    "numbers=list(range(1,11,1))\n",
    "\n",
    "l=[i**3 for i in numbers ]\n",
    "print(\"Cube of numbers are :\")\n",
    "print(l)"
   ]
  },
  {
   "cell_type": "code",
   "execution_count": 24,
   "id": "03b7cad1",
   "metadata": {},
   "outputs": [
    {
     "name": "stdout",
     "output_type": "stream",
     "text": [
      "Enter the number:565\n"
     ]
    },
    {
     "data": {
      "text/plain": [
       "['Not even']"
      ]
     },
     "execution_count": 24,
     "metadata": {},
     "output_type": "execute_result"
    }
   ],
   "source": [
    "number=int(input(\"Enter the number:\"))\n",
    "\n",
    "[\"Even\"if number % 2 ==0 else \"Not even\" ]"
   ]
  },
  {
   "cell_type": "code",
   "execution_count": 25,
   "id": "9ea7d612",
   "metadata": {},
   "outputs": [
    {
     "data": {
      "text/plain": [
       "[3, 6, 9]"
      ]
     },
     "execution_count": 25,
     "metadata": {},
     "output_type": "execute_result"
    }
   ],
   "source": [
    "l=[1,2,3,4,5,6,7,8,9,10]\n",
    "\n",
    "list(filter(lambda x : x % 3== 0 , l))"
   ]
  },
  {
   "cell_type": "code",
   "execution_count": 29,
   "id": "07acb2a3",
   "metadata": {},
   "outputs": [
    {
     "name": "stdout",
     "output_type": "stream",
     "text": [
      "[-1, -2, -3, -4, -5]\n",
      "[1, 2, 3, 4, 5, 6]\n"
     ]
    }
   ],
   "source": [
    "l2=[1,2,3,4,5,6,-1,-2,-3,-4,-5,0]\n",
    "pos=[]\n",
    "neg=[]\n",
    "[pos.append(i)  for i in l2 if i>0 ]\n",
    "[neg.append(i)  for i in l2 if i<0 ]\n",
    "\n",
    "print(neg)\n",
    "print(pos)"
   ]
  },
  {
   "cell_type": "markdown",
   "id": "adeea5b6",
   "metadata": {},
   "source": [
    "-------------------------------------------------------------------------------------------- __End__----------------------------------------------------------------------------------------------------------------"
   ]
  }
 ],
 "metadata": {
  "kernelspec": {
   "display_name": "Python 3 (ipykernel)",
   "language": "python",
   "name": "python3"
  },
  "language_info": {
   "codemirror_mode": {
    "name": "ipython",
    "version": 3
   },
   "file_extension": ".py",
   "mimetype": "text/x-python",
   "name": "python",
   "nbconvert_exporter": "python",
   "pygments_lexer": "ipython3",
   "version": "3.9.12"
  },
  "varInspector": {
   "cols": {
    "lenName": 16,
    "lenType": 16,
    "lenVar": 40
   },
   "kernels_config": {
    "python": {
     "delete_cmd_postfix": "",
     "delete_cmd_prefix": "del ",
     "library": "var_list.py",
     "varRefreshCmd": "print(var_dic_list())"
    },
    "r": {
     "delete_cmd_postfix": ") ",
     "delete_cmd_prefix": "rm(",
     "library": "var_list.r",
     "varRefreshCmd": "cat(var_dic_list()) "
    }
   },
   "types_to_exclude": [
    "module",
    "function",
    "builtin_function_or_method",
    "instance",
    "_Feature"
   ],
   "window_display": false
  }
 },
 "nbformat": 4,
 "nbformat_minor": 5
}
